{
  "nbformat": 4,
  "nbformat_minor": 0,
  "metadata": {
    "colab": {
      "provenance": []
    },
    "kernelspec": {
      "name": "python3",
      "display_name": "Python 3"
    },
    "language_info": {
      "name": "python"
    }
  },
  "cells": [
    {
      "cell_type": "markdown",
      "source": [
        "**#THEORECTICLE - QUESTTION**S.\n",
        "\n",
        "# PYTHON ASSIGNMET\n",
        "\n",
        "Q:1 what is python , and why is it popular.\n",
        "\n",
        "ans: python is a bigenner friendly programming language , as it is popular because is has a simple and understandable syntex any one who knows english can learn python easily , it is also popular because the python is used in many domains like web devlopment , Arttifical intelligence , data science etc on the other hand python has a huge amout of libraries .\n",
        "\n",
        "Q:2 What is and interpreter in python .\n",
        "\n",
        "ans: and enterpreter is a program thatt read and run the code line by line . it is helps us to find the errors in the code word by word and line by line .\n",
        "\n",
        "Q:3 what are pre-defined keywords in python.\n",
        "\n",
        "ans: the pre-defined keywords are the rules of writing tthe python program for example if , if else , for , and , while.\n",
        "\n",
        "Q:4 Can keywrods be used as variable names.\n",
        "\n",
        "ans: NO we can Not use keywords as a variable Names.\n",
        "\n",
        "Q:5 what is mutability in python.\n",
        "\n",
        "ans: mutability means whether an object can be changed after created.\n",
        "\n",
        "Q:6 what are lists mutable, but tuples are immutable.\n",
        "\n",
        "ans: lists are mutable because you can add,remove or change items, tuples are immutable because they cant be changed after created.\n",
        "\n",
        "Q:7 what is the difference between '==' and 'is' operators in python.\n",
        "\n",
        "ans : '==' checks that values are equal or not ,\n",
        " 'is' checks if both refers to the exact same object in the memory.\n",
        "\n",
        "Q:8 what are logical operators in python.\n",
        "\n",
        "ans: logical operators are used to combine conditions , example 'and'= true if both conditions are true, 'or' true if any one is true, 'not'reserves the result (true or false).\n",
        "\n",
        "Q:9 what is type casting in python.\n",
        "\n",
        "ans: type casting means converting data from one type to another.\n",
        "\n",
        "Q:10 what is the difference between implicit and explicit type casting.\n",
        "\n",
        "ans: implicit casting = converting one data type to another , explicitt casting = we have to do it manually.\n",
        "\n",
        "Q:11 what is the purpose of conditional statementt in python.\n",
        "\n",
        "ans: they let your program make descision and execute code depending on conditions.\n",
        "\n",
        "Q:12 how does the elif statement work.\n",
        "\n",
        "ans: is checks another condition if the first 'if' is false. then the only first true condition will run.\n",
        "\n",
        "Q:13 what is the difference between for and while loops.\n",
        "\n",
        "'for' loop is used when we know how many times we want to repeat sometthing.\n",
        "'while' loop is used when we dont know how many times, and you want to repeat untiul the condition is true.\n",
        "\n",
        "Q:14 describe a scenario where a while loop is more sutaible then a for loop.\n",
        "\n",
        "ans: use a while loop rathen than a for loop when we dont know how many times the loop will run.\n",
        "\n",
        "\n",
        "\n"
      ],
      "metadata": {
        "id": "jUD1-Y8lWkg9"
      }
    },
    {
      "cell_type": "markdown",
      "source": [
        "#PRACTICLE - QUESTTIONS\n"
      ],
      "metadata": {
        "id": "cJMXpkbAtHrw"
      }
    },
    {
      "cell_type": "code",
      "source": [
        "# Q:1 write a python program to print hellow world."
      ],
      "metadata": {
        "id": "JYrzeWJutWvW"
      },
      "execution_count": 1,
      "outputs": []
    },
    {
      "cell_type": "code",
      "source": [
        "print('hellow wrold')"
      ],
      "metadata": {
        "colab": {
          "base_uri": "https://localhost:8080/"
        },
        "id": "za5niirktin0",
        "outputId": "34a344d8-2b18-4acf-d447-9e25ccdc1571"
      },
      "execution_count": 2,
      "outputs": [
        {
          "output_type": "stream",
          "name": "stdout",
          "text": [
            "hellow wrold\n"
          ]
        }
      ]
    },
    {
      "cell_type": "code",
      "source": [
        "# Q:2 write a python program that displays your name and age."
      ],
      "metadata": {
        "id": "Crm9ArXPtrCt"
      },
      "execution_count": 3,
      "outputs": []
    },
    {
      "cell_type": "code",
      "source": [
        "name = 'Zaid Bin Zaya'\n",
        "age = 17\n",
        "print (name , age )"
      ],
      "metadata": {
        "colab": {
          "base_uri": "https://localhost:8080/"
        },
        "id": "yxyaeCnNt9Uz",
        "outputId": "92dc2df1-257a-442a-bb4f-8592c97aa00f"
      },
      "execution_count": 6,
      "outputs": [
        {
          "output_type": "stream",
          "name": "stdout",
          "text": [
            "Zaid Bin Zaya 17\n"
          ]
        }
      ]
    },
    {
      "cell_type": "markdown",
      "source": [
        "# Q:3 write a code tto print all tthe predefined keywords in the python using keyword library."
      ],
      "metadata": {
        "id": "V0mfy3JaxK6K"
      }
    },
    {
      "cell_type": "code",
      "source": [
        "import keyword\n",
        "\n",
        "print(\"All python keywords:\")\n",
        "print(keyword.kwlist) #kw lists = list of all python keywords"
      ],
      "metadata": {
        "colab": {
          "base_uri": "https://localhost:8080/"
        },
        "id": "LcEW2DiXuNu7",
        "outputId": "0089b0b9-946f-4e89-ef0c-d5f1869aa234"
      },
      "execution_count": 8,
      "outputs": [
        {
          "output_type": "stream",
          "name": "stdout",
          "text": [
            "All python keywords:\n",
            "['False', 'None', 'True', 'and', 'as', 'assert', 'async', 'await', 'break', 'class', 'continue', 'def', 'del', 'elif', 'else', 'except', 'finally', 'for', 'from', 'global', 'if', 'import', 'in', 'is', 'lambda', 'nonlocal', 'not', 'or', 'pass', 'raise', 'return', 'try', 'while', 'with', 'yield']\n"
          ]
        }
      ]
    },
    {
      "cell_type": "markdown",
      "source": [],
      "metadata": {
        "id": "yTGY-SWBxpIV"
      }
    }
  ]
}